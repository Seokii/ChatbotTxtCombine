{
 "cells": [
  {
   "cell_type": "code",
   "execution_count": 1,
   "id": "e4776982",
   "metadata": {},
   "outputs": [],
   "source": [
    "import os"
   ]
  },
  {
   "cell_type": "code",
   "execution_count": 2,
   "id": "0909b225",
   "metadata": {},
   "outputs": [],
   "source": [
    "dir = \"combineData/\""
   ]
  },
  {
   "cell_type": "code",
   "execution_count": 3,
   "id": "6c548307",
   "metadata": {},
   "outputs": [],
   "source": [
    "outfile_name = \"combineTxt.txt\""
   ]
  },
  {
   "cell_type": "code",
   "execution_count": 4,
   "id": "2882246a",
   "metadata": {},
   "outputs": [],
   "source": [
    "out_file = open(outfile_name, 'w')"
   ]
  },
  {
   "cell_type": "code",
   "execution_count": 5,
   "id": "2244bc42",
   "metadata": {},
   "outputs": [],
   "source": [
    "files = os.listdir(dir)"
   ]
  },
  {
   "cell_type": "code",
   "execution_count": 6,
   "id": "27397a58",
   "metadata": {},
   "outputs": [],
   "source": [
    "for filename in files:\n",
    "    if \".txt\" not in filename:\n",
    "        continue\n",
    "    file = open(dir + filename)\n",
    "    for line in file:\n",
    "        out_file.write(line)\n",
    "    out_file.write(\"\\n\")\n",
    "    file.close()\n",
    "out_file.close()"
   ]
  },
  {
   "cell_type": "code",
   "execution_count": null,
   "id": "9980e0c7",
   "metadata": {},
   "outputs": [],
   "source": []
  }
 ],
 "metadata": {
  "kernelspec": {
   "display_name": "Python 3",
   "language": "python",
   "name": "python3"
  },
  "language_info": {
   "codemirror_mode": {
    "name": "ipython",
    "version": 3
   },
   "file_extension": ".py",
   "mimetype": "text/x-python",
   "name": "python",
   "nbconvert_exporter": "python",
   "pygments_lexer": "ipython3",
   "version": "3.8.8"
  }
 },
 "nbformat": 4,
 "nbformat_minor": 5
}
