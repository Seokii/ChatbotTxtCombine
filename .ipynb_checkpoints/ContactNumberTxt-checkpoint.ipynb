{
 "cells": [
  {
   "cell_type": "code",
   "execution_count": 1,
   "id": "967164ba",
   "metadata": {},
   "outputs": [],
   "source": [
    "import os"
   ]
  },
  {
   "cell_type": "code",
   "execution_count": 2,
   "id": "37c8db43",
   "metadata": {},
   "outputs": [],
   "source": [
    "dir = 'data/'\n",
    "outfile_name = \"combineData/contactNumber.txt\""
   ]
  },
  {
   "cell_type": "code",
   "execution_count": 3,
   "id": "6097c512",
   "metadata": {},
   "outputs": [],
   "source": [
    "out_file = open(outfile_name, 'w')\n",
    "files = os.listdir(dir)"
   ]
  },
  {
   "cell_type": "code",
   "execution_count": 4,
   "id": "bd6f0629",
   "metadata": {},
   "outputs": [],
   "source": [
    "for filename in files:\n",
    "    if \".txt\" not in filename:\n",
    "        continue\n",
    "    file = open(dir + filename)\n",
    "    for line in file:\n",
    "        if (\"번호\" in line) and (\"0\" in line):\n",
    "            out_file.write(line.replace('0', '1'))\n",
    "        elif (\"번호\" in line) and (\"1\" in line):\n",
    "            out_file.write(line.replace('1', '1'))\n",
    "        elif (\"번호\" in line) and (\"2\" in line):\n",
    "            out_file.write(line.replace('2', '1'))\n",
    "        elif (\"번호\" in line) and (\"3\" in line):\n",
    "            out_file.write(line.replace('3', '1'))\n",
    "        elif (\"번호\" in line) and (\"4\" in line):\n",
    "            out_file.write(line.replace('4', '1'))\n",
    "        elif (\"번호\" in line) and (\"5\" in line):\n",
    "            out_file.write(line.replace('5', '1'))\n",
    "        elif (\"번호\" in line) and (\"6\" in line):\n",
    "            out_file.write(line.replace('6', '1'))\n",
    "        elif (\"번호\" in line) and (\"공포\" in line):\n",
    "            out_file.write(line.replace('공포', '1'))\n",
    "        elif (\"번호\" in line) and (\"놀람\" in line):\n",
    "            out_file.write(line.replace('놀람', '1'))\n",
    "        elif (\"번호\" in line) and (\"분노\" in line):\n",
    "            out_file.write(line.replace('분노', '1'))    \n",
    "        elif (\"번호\" in line) and (\"슬픔\" in line):\n",
    "            out_file.write(line.replace('슬픔', '1'))\n",
    "        elif (\"번호\" in line) and (\"중립\" in line):\n",
    "            out_file.write(line.replace('중립', '1'))\n",
    "        elif (\"번호\" in line) and (\"행복\" in line):\n",
    "            out_file.write(line.replace('행복', '1'))\n",
    "        elif (\"번호\" in line) and (\"혐오\" in line):\n",
    "            out_file.write(line.replace('혐오', '1'))\n",
    "    out_file.write('\\n')\n",
    "    file.close()\n",
    "out_file.close()"
   ]
  },
  {
   "cell_type": "code",
   "execution_count": null,
   "id": "bef33c3a",
   "metadata": {},
   "outputs": [],
   "source": []
  }
 ],
 "metadata": {
  "kernelspec": {
   "display_name": "Python 3",
   "language": "python",
   "name": "python3"
  },
  "language_info": {
   "codemirror_mode": {
    "name": "ipython",
    "version": 3
   },
   "file_extension": ".py",
   "mimetype": "text/x-python",
   "name": "python",
   "nbconvert_exporter": "python",
   "pygments_lexer": "ipython3",
   "version": "3.8.8"
  }
 },
 "nbformat": 4,
 "nbformat_minor": 5
}
